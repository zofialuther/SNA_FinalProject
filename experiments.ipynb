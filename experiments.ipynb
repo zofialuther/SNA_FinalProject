{
 "cells": [
  {
   "cell_type": "markdown",
   "id": "076cbacc-62c1-4add-9b3b-7dc14a858b73",
   "metadata": {},
   "source": [
    "# Social Network Analysis: Final Project\n",
    "### Names: Zoe Luther, Gwen Lynch, Rachel Lan"
   ]
  },
  {
   "cell_type": "code",
   "execution_count": 1,
   "id": "f828b714-8f74-4a11-a6ae-bbd6d2ba07c6",
   "metadata": {},
   "outputs": [],
   "source": [
    "# !pip3 install torch-sparse\n",
    "# !pip3 install torch-scatter\n",
    "# !pip3 install torch_geometric"
   ]
  },
  {
   "cell_type": "code",
   "execution_count": 3,
   "id": "6d1f2ccf-8c26-46fd-a295-8cd655c3e731",
   "metadata": {},
   "outputs": [],
   "source": [
    "import csv\n",
    "import pandas as pd\n",
    "import torch\n",
    "from sklearn.cluster import KMeans\n",
    "from sklearn.preprocessing import StandardScaler\n",
    "from sklearn.decomposition import PCA\n",
    "from sklearn.model_selection import train_test_split\n",
    "import numpy as np\n",
    "\n",
    "from sklearn.model_selection import train_test_split\n",
    "from sklearn.linear_model import LinearRegression\n",
    "from sklearn.metrics import mean_squared_error, f1_score, roc_auc_score\n",
    "\n",
    "from torch_geometric.data import HeteroData\n",
    "import torch_geometric.transforms as T\n",
    "\n",
    "import warnings\n",
    "warnings.filterwarnings('ignore')\n",
    "\n",
    "from sklearn.model_selection import train_test_split\n",
    "from sklearn.neural_network import MLPClassifier\n",
    "from sklearn.preprocessing import StandardScaler\n",
    "from sklearn.metrics import accuracy_score\n",
    "\n",
    "import networkx as nx\n",
    "import torch_geometric\n",
    "import torch_scatter\n",
    "import torch_sparse\n",
    "\n",
    "\n",
    "from torch_geometric.loader import LinkNeighborLoader\n",
    "\n",
    "from torch_geometric.nn import SAGEConv, to_hetero\n",
    "import torch.nn.functional as F\n",
    "from torch import *\n",
    "\n",
    "import tqdm\n",
    "import torch.nn.functional as F\n",
    "from sklearn.metrics import roc_auc_score, f1_score\n",
    "import matplotlib.pyplot as plt"
   ]
  },
  {
   "cell_type": "markdown",
   "id": "55cf0ca4-a15e-4049-9e50-c148f830eb1b",
   "metadata": {},
   "source": [
    "Load dataset from [Spotify challenge](https://www.aicrowd.com/challenges/spotify-sequential-skip-prediction-challenge/dataset_files): we opt to use the smaller versions of the available datasets due to resource constraints. "
   ]
  },
  {
   "cell_type": "code",
   "execution_count": 4,
   "id": "a20faca5-b083-412c-a68d-6f979429095d",
   "metadata": {},
   "outputs": [],
   "source": [
    "df = pd.read_csv('log_mini.csv')\n",
    "track_info = pd.read_csv('tf_mini.csv', index_col='track_id')\n",
    "track_info = track_info[['acousticness', 'danceability', 'energy', 'instrumentalness', 'liveness', 'loudness', 'speechiness', 'tempo', 'valence', 'key']]\n",
    "\n",
    "# rescale feature information\n",
    "track_id = track_info.index\n",
    "data_to_scale = track_info.drop(columns=['track_id']) if 'track_id' in track_info.columns else track_info\n",
    "std_scaler = StandardScaler()\n",
    "scaled_data = std_scaler.fit_transform(data_to_scale)\n",
    "track_info = pd.DataFrame(scaled_data, index=track_id, columns=data_to_scale.columns)"
   ]
  },
  {
   "cell_type": "code",
   "execution_count": 5,
   "id": "bc2d0d7e-2578-44d1-b28e-a4bab832316f",
   "metadata": {},
   "outputs": [
    {
     "data": {
      "text/html": [
       "<div>\n",
       "<style scoped>\n",
       "    .dataframe tbody tr th:only-of-type {\n",
       "        vertical-align: middle;\n",
       "    }\n",
       "\n",
       "    .dataframe tbody tr th {\n",
       "        vertical-align: top;\n",
       "    }\n",
       "\n",
       "    .dataframe thead th {\n",
       "        text-align: right;\n",
       "    }\n",
       "</style>\n",
       "<table border=\"1\" class=\"dataframe\">\n",
       "  <thead>\n",
       "    <tr style=\"text-align: right;\">\n",
       "      <th></th>\n",
       "      <th>acousticness</th>\n",
       "      <th>danceability</th>\n",
       "      <th>energy</th>\n",
       "      <th>instrumentalness</th>\n",
       "      <th>liveness</th>\n",
       "      <th>loudness</th>\n",
       "      <th>speechiness</th>\n",
       "      <th>tempo</th>\n",
       "      <th>valence</th>\n",
       "      <th>key</th>\n",
       "    </tr>\n",
       "  </thead>\n",
       "  <tbody>\n",
       "    <tr>\n",
       "      <th>0</th>\n",
       "      <td>0.979333</td>\n",
       "      <td>0.162883</td>\n",
       "      <td>0.071317</td>\n",
       "      <td>0.606834</td>\n",
       "      <td>0.361600</td>\n",
       "      <td>-31.514333</td>\n",
       "      <td>0.040567</td>\n",
       "      <td>75.336500</td>\n",
       "      <td>0.103783</td>\n",
       "      <td>6</td>\n",
       "    </tr>\n",
       "    <tr>\n",
       "      <th>1</th>\n",
       "      <td>0.494780</td>\n",
       "      <td>0.299333</td>\n",
       "      <td>0.450678</td>\n",
       "      <td>0.477762</td>\n",
       "      <td>0.131000</td>\n",
       "      <td>-16.854000</td>\n",
       "      <td>0.076817</td>\n",
       "      <td>120.285667</td>\n",
       "      <td>0.221750</td>\n",
       "      <td>5</td>\n",
       "    </tr>\n",
       "    <tr>\n",
       "      <th>2</th>\n",
       "      <td>0.762000</td>\n",
       "      <td>0.712000</td>\n",
       "      <td>0.818000</td>\n",
       "      <td>0.876000</td>\n",
       "      <td>0.126000</td>\n",
       "      <td>-9.180000</td>\n",
       "      <td>0.047000</td>\n",
       "      <td>133.444000</td>\n",
       "      <td>0.975000</td>\n",
       "      <td>7</td>\n",
       "    </tr>\n",
       "    <tr>\n",
       "      <th>3</th>\n",
       "      <td>0.651417</td>\n",
       "      <td>0.529093</td>\n",
       "      <td>0.419146</td>\n",
       "      <td>0.205309</td>\n",
       "      <td>0.218696</td>\n",
       "      <td>-12.288965</td>\n",
       "      <td>0.107872</td>\n",
       "      <td>112.857352</td>\n",
       "      <td>0.513604</td>\n",
       "      <td>7</td>\n",
       "    </tr>\n",
       "    <tr>\n",
       "      <th>4</th>\n",
       "      <td>0.676557</td>\n",
       "      <td>0.538961</td>\n",
       "      <td>0.316434</td>\n",
       "      <td>0.003003</td>\n",
       "      <td>0.172254</td>\n",
       "      <td>-12.479387</td>\n",
       "      <td>0.082851</td>\n",
       "      <td>112.110362</td>\n",
       "      <td>0.448249</td>\n",
       "      <td>7</td>\n",
       "    </tr>\n",
       "  </tbody>\n",
       "</table>\n",
       "</div>"
      ],
      "text/plain": [
       "   acousticness  danceability    energy  instrumentalness  liveness  \\\n",
       "0      0.979333      0.162883  0.071317          0.606834  0.361600   \n",
       "1      0.494780      0.299333  0.450678          0.477762  0.131000   \n",
       "2      0.762000      0.712000  0.818000          0.876000  0.126000   \n",
       "3      0.651417      0.529093  0.419146          0.205309  0.218696   \n",
       "4      0.676557      0.538961  0.316434          0.003003  0.172254   \n",
       "\n",
       "    loudness  speechiness       tempo   valence  key  \n",
       "0 -31.514333     0.040567   75.336500  0.103783    6  \n",
       "1 -16.854000     0.076817  120.285667  0.221750    5  \n",
       "2  -9.180000     0.047000  133.444000  0.975000    7  \n",
       "3 -12.288965     0.107872  112.857352  0.513604    7  \n",
       "4 -12.479387     0.082851  112.110362  0.448249    7  "
      ]
     },
     "execution_count": 5,
     "metadata": {},
     "output_type": "execute_result"
    }
   ],
   "source": [
    "genres = pd.read_csv('data_by_genres.csv')\n",
    "genres_numeric = genres[['acousticness', 'danceability', 'energy', 'instrumentalness', 'liveness', 'loudness', 'speechiness', 'tempo', 'valence', 'key']]\n",
    "genres_numeric.head()"
   ]
  },
  {
   "cell_type": "markdown",
   "id": "d387f15c-a1d2-4ecb-92f4-c76cf403c822",
   "metadata": {},
   "source": [
    "# Generate 'genre' feature for all tracks"
   ]
  },
  {
   "cell_type": "code",
   "execution_count": 6,
   "id": "caca82f6-28d1-4cdd-b286-ed732c7e31a5",
   "metadata": {},
   "outputs": [
    {
     "data": {
      "image/png": "[encoded data removed]",
      "text/plain": [
       "<Figure size 640x480 with 1 Axes>"
      ]
     },
     "metadata": {},
     "output_type": "display_data"
    }
   ],
   "source": [
    "scaler = StandardScaler()\n",
    "genres_numeric_scaled = scaler.fit_transform(genres_numeric)\n",
    "kmeans = KMeans(n_clusters=10, random_state=0)\n",
    "clusters = kmeans.fit_predict(genres_numeric_scaled)\n",
    "\n",
    "pca = PCA(n_components=2)\n",
    "genres_numeric_pca = pca.fit_transform(genres_numeric_scaled)\n",
    "\n",
    "plt.scatter(genres_numeric_pca[:, 0], genres_numeric_pca[:, 1], c=clusters)\n",
    "plt.title(\"Clustered genres (in 2D) according to k=10\")\n",
    "plt.show()"
   ]
  },
  {
   "cell_type": "code",
   "execution_count": 7,
   "id": "056553cf-ccb7-41a1-b817-126afa1577db",
   "metadata": {},
   "outputs": [
    {
     "data": {
      "image/png": "[encoded data removed]",
      "text/plain": [
       "<Figure size 640x480 with 1 Axes>"
      ]
     },
     "metadata": {},
     "output_type": "display_data"
    }
   ],
   "source": [
    "# Apply PCA for dimensionality reduction\n",
    "pca = PCA(n_components=2)\n",
    "trf_pca = pca.fit_transform(scaled_data)\n",
    "\n",
    "track_labels = kmeans.predict(scaled_data)\n",
    "\n",
    "# visualization of predicted genre\n",
    "plt.scatter(trf_pca[:, 0], trf_pca[:, 1], c=track_labels)\n",
    "plt.title(\"All tracks colored by representational genre\")\n",
    "plt.show()"
   ]
  },
  {
   "cell_type": "code",
   "execution_count": 8,
   "id": "8c573d68-7b0d-4eb0-a045-e14a71168cf5",
   "metadata": {},
   "outputs": [
    {
     "data": {
      "text/html": [
       "<div>\n",
       "<style scoped>\n",
       "    .dataframe tbody tr th:only-of-type {\n",
       "        vertical-align: middle;\n",
       "    }\n",
       "\n",
       "    .dataframe tbody tr th {\n",
       "        vertical-align: top;\n",
       "    }\n",
       "\n",
       "    .dataframe thead th {\n",
       "        text-align: right;\n",
       "    }\n",
       "</style>\n",
       "<table border=\"1\" class=\"dataframe\">\n",
       "  <thead>\n",
       "    <tr style=\"text-align: right;\">\n",
       "      <th></th>\n",
       "      <th>acousticness</th>\n",
       "      <th>danceability</th>\n",
       "      <th>energy</th>\n",
       "      <th>instrumentalness</th>\n",
       "      <th>liveness</th>\n",
       "      <th>loudness</th>\n",
       "      <th>speechiness</th>\n",
       "      <th>tempo</th>\n",
       "      <th>valence</th>\n",
       "      <th>key</th>\n",
       "      <th>genre</th>\n",
       "    </tr>\n",
       "    <tr>\n",
       "      <th>track_id</th>\n",
       "      <th></th>\n",
       "      <th></th>\n",
       "      <th></th>\n",
       "      <th></th>\n",
       "      <th></th>\n",
       "      <th></th>\n",
       "      <th></th>\n",
       "      <th></th>\n",
       "      <th></th>\n",
       "      <th></th>\n",
       "      <th></th>\n",
       "    </tr>\n",
       "  </thead>\n",
       "  <tbody>\n",
       "    <tr>\n",
       "      <th>t_a540e552-16d4-42f8-a185-232bd650ea7d</th>\n",
       "      <td>0.752430</td>\n",
       "      <td>-1.275852</td>\n",
       "      <td>0.847631</td>\n",
       "      <td>-0.329484</td>\n",
       "      <td>-0.415877</td>\n",
       "      <td>-0.946756</td>\n",
       "      <td>-0.316225</td>\n",
       "      <td>1.501039</td>\n",
       "      <td>1.817189</td>\n",
       "      <td>-1.464642</td>\n",
       "      <td>6</td>\n",
       "    </tr>\n",
       "    <tr>\n",
       "      <th>t_67965da0-132b-4b1e-8a69-0ef99b32287c</th>\n",
       "      <td>2.412423</td>\n",
       "      <td>-0.725316</td>\n",
       "      <td>-2.342727</td>\n",
       "      <td>-0.329500</td>\n",
       "      <td>-0.239334</td>\n",
       "      <td>-1.575094</td>\n",
       "      <td>-0.287611</td>\n",
       "      <td>-0.883469</td>\n",
       "      <td>-0.520061</td>\n",
       "      <td>-1.464642</td>\n",
       "      <td>2</td>\n",
       "    </tr>\n",
       "    <tr>\n",
       "      <th>t_0614ecd3-a7d5-40a1-816e-156d5872a467</th>\n",
       "      <td>2.037889</td>\n",
       "      <td>-0.722973</td>\n",
       "      <td>-1.359077</td>\n",
       "      <td>-0.329500</td>\n",
       "      <td>-0.653912</td>\n",
       "      <td>-0.764466</td>\n",
       "      <td>-0.619176</td>\n",
       "      <td>-0.550264</td>\n",
       "      <td>0.969928</td>\n",
       "      <td>-1.464642</td>\n",
       "      <td>2</td>\n",
       "    </tr>\n",
       "    <tr>\n",
       "      <th>t_070a63a0-744a-434e-9913-a97b02926a29</th>\n",
       "      <td>0.530778</td>\n",
       "      <td>-0.358213</td>\n",
       "      <td>-0.610010</td>\n",
       "      <td>-0.329500</td>\n",
       "      <td>0.880555</td>\n",
       "      <td>-0.894309</td>\n",
       "      <td>-0.622410</td>\n",
       "      <td>-0.071690</td>\n",
       "      <td>1.506940</td>\n",
       "      <td>-1.464642</td>\n",
       "      <td>6</td>\n",
       "    </tr>\n",
       "    <tr>\n",
       "      <th>t_d6990e17-9c31-4b01-8559-47d9ce476df1</th>\n",
       "      <td>1.733399</td>\n",
       "      <td>-0.774619</td>\n",
       "      <td>0.384709</td>\n",
       "      <td>-0.329500</td>\n",
       "      <td>-0.092689</td>\n",
       "      <td>0.173968</td>\n",
       "      <td>-0.668686</td>\n",
       "      <td>-0.883469</td>\n",
       "      <td>0.302542</td>\n",
       "      <td>-1.464642</td>\n",
       "      <td>2</td>\n",
       "    </tr>\n",
       "  </tbody>\n",
       "</table>\n",
       "</div>"
      ],
      "text/plain": [
       "                                        acousticness  danceability    energy  \\\n",
       "track_id                                                                       \n",
       "t_a540e552-16d4-42f8-a185-232bd650ea7d      0.752430     -1.275852  0.847631   \n",
       "t_67965da0-132b-4b1e-8a69-0ef99b32287c      2.412423     -0.725316 -2.342727   \n",
       "t_0614ecd3-a7d5-40a1-816e-156d5872a467      2.037889     -0.722973 -1.359077   \n",
       "t_070a63a0-744a-434e-9913-a97b02926a29      0.530778     -0.358213 -0.610010   \n",
       "t_d6990e17-9c31-4b01-8559-47d9ce476df1      1.733399     -0.774619  0.384709   \n",
       "\n",
       "                                        instrumentalness  liveness  loudness  \\\n",
       "track_id                                                                       \n",
       "t_a540e552-16d4-42f8-a185-232bd650ea7d         -0.329484 -0.415877 -0.946756   \n",
       "t_67965da0-132b-4b1e-8a69-0ef99b32287c         -0.329500 -0.239334 -1.575094   \n",
       "t_0614ecd3-a7d5-40a1-816e-156d5872a467         -0.329500 -0.653912 -0.764466   \n",
       "t_070a63a0-744a-434e-9913-a97b02926a29         -0.329500  0.880555 -0.894309   \n",
       "t_d6990e17-9c31-4b01-8559-47d9ce476df1         -0.329500 -0.092689  0.173968   \n",
       "\n",
       "                                        speechiness     tempo   valence  \\\n",
       "track_id                                                                  \n",
       "t_a540e552-16d4-42f8-a185-232bd650ea7d    -0.316225  1.501039  1.817189   \n",
       "t_67965da0-132b-4b1e-8a69-0ef99b32287c    -0.287611 -0.883469 -0.520061   \n",
       "t_0614ecd3-a7d5-40a1-816e-156d5872a467    -0.619176 -0.550264  0.969928   \n",
       "t_070a63a0-744a-434e-9913-a97b02926a29    -0.622410 -0.071690  1.506940   \n",
       "t_d6990e17-9c31-4b01-8559-47d9ce476df1    -0.668686 -0.883469  0.302542   \n",
       "\n",
       "                                             key  genre  \n",
       "track_id                                                 \n",
       "t_a540e552-16d4-42f8-a185-232bd650ea7d -1.464642      6  \n",
       "t_67965da0-132b-4b1e-8a69-0ef99b32287c -1.464642      2  \n",
       "t_0614ecd3-a7d5-40a1-816e-156d5872a467 -1.464642      2  \n",
       "t_070a63a0-744a-434e-9913-a97b02926a29 -1.464642      6  \n",
       "t_d6990e17-9c31-4b01-8559-47d9ce476df1 -1.464642      2  "
      ]
     },
     "execution_count": 8,
     "metadata": {},
     "output_type": "execute_result"
    }
   ],
   "source": [
    "track_info['genre'] = track_labels\n",
    "track_info.head()"
   ]
  },
  {
   "cell_type": "markdown",
   "id": "fdba3d1e-c777-4790-b943-ae756824dd31",
   "metadata": {},
   "source": [
    "# GraphSAGE #2: via representative genre information"
   ]
  },
  {
   "cell_type": "code",
   "execution_count": 9,
   "id": "c0c19375-3070-4926-a80c-36b1cdb9b732",
   "metadata": {},
   "outputs": [],
   "source": [
    "track_feat = track_info[['genre']]\n",
    "track_feat = torch.from_numpy(track_feat.values).to(torch.float)\n",
    "assert track_feat.size() == (50704, 1)"
   ]
  },
  {
   "cell_type": "code",
   "execution_count": 10,
   "id": "b51bad6a-126f-4082-8552-a1cb748a66f8",
   "metadata": {},
   "outputs": [
    {
     "name": "stdout",
     "output_type": "stream",
     "text": [
      "Mapping of session IDs to consecutive values:\n",
      "==========================================\n",
      "                               session_id  mapped_session_id\n",
      "0  0_00006f66-33e5-4de7-a324-2d18e439fc1e                  0\n",
      "1  0_0000a72b-09ac-412f-b452-9b9e79bded8f                  1\n",
      "2  0_00010fc5-b79e-4cdf-bc4c-f140d0f99a3a                  2\n",
      "3  0_00016a3d-9076-4f67-918f-f29e3ce160dc                  3\n",
      "4  0_00018b58-deb8-4f98-ac5e-d7e01b346130                  4\n",
      "\n"
     ]
    }
   ],
   "source": [
    "unique_session_id = df['session_id'].unique()\n",
    "unique_session_id = pd.DataFrame(data={\n",
    "    'session_id': unique_session_id,\n",
    "    'mapped_session_id': pd.RangeIndex(len(unique_session_id)),\n",
    "})\n",
    "print(\"Mapping of session IDs to consecutive values:\")\n",
    "print(\"==========================================\")\n",
    "print(unique_session_id.head())\n",
    "print()"
   ]
  },
  {
   "cell_type": "code",
   "execution_count": 11,
   "id": "58fad7f1-ea7d-4700-b99a-3454a48ac696",
   "metadata": {},
   "outputs": [
    {
     "name": "stdout",
     "output_type": "stream",
     "text": [
      "Mapping of song IDs to consecutive values:\n",
      "===========================================\n",
      "                                 track_id  mapped_track_id\n",
      "0  t_a540e552-16d4-42f8-a185-232bd650ea7d                0\n",
      "1  t_67965da0-132b-4b1e-8a69-0ef99b32287c                1\n",
      "2  t_0614ecd3-a7d5-40a1-816e-156d5872a467                2\n",
      "3  t_070a63a0-744a-434e-9913-a97b02926a29                3\n",
      "4  t_d6990e17-9c31-4b01-8559-47d9ce476df1                4\n"
     ]
    }
   ],
   "source": [
    "# Create a mapping from unique song indices to range [0, num_song_nodes):\n",
    "unique_song_id = df['track_id_clean'].unique()\n",
    "unique_song_id = pd.DataFrame(data={\n",
    "    'track_id': track_info.index,\n",
    "    'mapped_track_id': pd.RangeIndex(len(track_info)),\n",
    "})\n",
    "print(\"Mapping of song IDs to consecutive values:\")\n",
    "print(\"===========================================\")\n",
    "print(unique_song_id.head())"
   ]
  },
  {
   "cell_type": "code",
   "execution_count": 12,
   "id": "3555a90e-3157-43ce-be9d-4cfe01ebec56",
   "metadata": {},
   "outputs": [
    {
     "name": "stdout",
     "output_type": "stream",
     "text": [
      "\n",
      "Final edge indices pointing from sessions to songs:\n",
      "=================================================\n",
      "tensor([[    0,     0,     0,  ...,  9999,  9999,  9999],\n",
      "        [11160, 34125, 46575,  ..., 11509, 21450, 11505]])\n"
     ]
    }
   ],
   "source": [
    "# Perform merge to obtain the edges from users and movies:\n",
    "ratings_session_id = pd.merge(df['session_id'], unique_session_id, left_on='session_id', right_on='session_id', how='left')\n",
    "ratings_session_id = torch.from_numpy(ratings_session_id['mapped_session_id'].values)\n",
    "\n",
    "ratings_song_id = pd.merge(df['track_id_clean'], unique_song_id, left_on='track_id_clean', right_on='track_id', how='left')\n",
    "ratings_song_id = torch.from_numpy(ratings_song_id['mapped_track_id'].values)\n",
    "\n",
    "edge_index_session_to_song = torch.stack([ratings_session_id, ratings_song_id], dim=0)\n",
    "assert edge_index_session_to_song.size() == (2, 167880)\n",
    "\n",
    "print()\n",
    "print(\"Final edge indices pointing from sessions to songs:\")\n",
    "print(\"=================================================\")\n",
    "print(edge_index_session_to_song)"
   ]
  },
  {
   "cell_type": "code",
   "execution_count": 13,
   "id": "0250d536-f9c6-4c28-9251-cd351e22954a",
   "metadata": {},
   "outputs": [
    {
     "name": "stdout",
     "output_type": "stream",
     "text": [
      "HeteroData(\n",
      "  session={ node_id=[10000] },\n",
      "  song={\n",
      "    node_id=[50704],\n",
      "    x=[50704, 1],\n",
      "  },\n",
      "  (session, rates, song)={ edge_index=[2, 167880] },\n",
      "  (song, rev_rates, session)={ edge_index=[2, 167880] }\n",
      ")\n"
     ]
    }
   ],
   "source": [
    "data = HeteroData()\n",
    "\n",
    "# Save node indices:\n",
    "data[\"session\"].node_id = torch.arange(len(unique_session_id))\n",
    "data[\"song\"].node_id = torch.arange(len(track_info))\n",
    "\n",
    "# Add the node features and edge indices:\n",
    "data[\"song\"].x = track_feat\n",
    "data[\"session\", \"rates\", \"song\"].edge_index = edge_index_session_to_song\n",
    "\n",
    "#  add the reverse edges from movies to users in order to let a GNN be able to pass messages in both directions.\n",
    "data = T.ToUndirected()(data)\n",
    "\n",
    "print(data)"
   ]
  },
  {
   "cell_type": "code",
   "execution_count": 14,
   "id": "821d3c4a-e8b2-41af-999e-dda2c57a12e9",
   "metadata": {},
   "outputs": [
    {
     "name": "stdout",
     "output_type": "stream",
     "text": [
      "Training data:\n",
      "==============\n",
      "HeteroData(\n",
      "  session={ node_id=[10000] },\n",
      "  song={\n",
      "    node_id=[50704],\n",
      "    x=[50704, 1],\n",
      "  },\n",
      "  (session, rates, song)={\n",
      "    edge_index=[2, 94013],\n",
      "    edge_label=[40291],\n",
      "    edge_label_index=[2, 40291],\n",
      "  },\n",
      "  (song, rev_rates, session)={ edge_index=[2, 94013] }\n",
      ")\n",
      "\n",
      "Validation data:\n",
      "================\n",
      "HeteroData(\n",
      "  session={ node_id=[10000] },\n",
      "  song={\n",
      "    node_id=[50704],\n",
      "    x=[50704, 1],\n",
      "  },\n",
      "  (session, rates, song)={\n",
      "    edge_index=[2, 134304],\n",
      "    edge_label=[50364],\n",
      "    edge_label_index=[2, 50364],\n",
      "  },\n",
      "  (song, rev_rates, session)={ edge_index=[2, 134304] }\n",
      ")\n"
     ]
    }
   ],
   "source": [
    "transform = T.RandomLinkSplit(\n",
    "    num_val=0.1,\n",
    "    num_test=0.1,\n",
    "    disjoint_train_ratio=0.3,\n",
    "    neg_sampling_ratio=2.0,\n",
    "    add_negative_train_samples=False,\n",
    "    edge_types=(\"session\", \"rates\", \"song\"),\n",
    "    rev_edge_types=(\"song\", \"rev_rates\", \"session\"), \n",
    ")\n",
    "\n",
    "train_data, val_data, test_data = transform(data)\n",
    "print(\"Training data:\")\n",
    "print(\"==============\")\n",
    "print(train_data)\n",
    "print()\n",
    "print(\"Validation data:\")\n",
    "print(\"================\")\n",
    "print(val_data)"
   ]
  },
  {
   "cell_type": "code",
   "execution_count": 15,
   "id": "a8a5e788-bc1b-41ff-a55c-16fd2fcb1f24",
   "metadata": {},
   "outputs": [
    {
     "name": "stdout",
     "output_type": "stream",
     "text": [
      "Sampled mini-batch:\n",
      "===================\n",
      "HeteroData(\n",
      "  session={\n",
      "    node_id=[5350],\n",
      "    n_id=[5350],\n",
      "  },\n",
      "  song={\n",
      "    node_id=[6426],\n",
      "    x=[6426, 1],\n",
      "    n_id=[6426],\n",
      "  },\n",
      "  (session, rates, song)={\n",
      "    edge_index=[2, 11730],\n",
      "    edge_label=[384],\n",
      "    edge_label_index=[2, 384],\n",
      "    e_id=[11730],\n",
      "    input_id=[128],\n",
      "  },\n",
      "  (song, rev_rates, session)={\n",
      "    edge_index=[2, 14033],\n",
      "    e_id=[14033],\n",
      "  }\n",
      ")\n"
     ]
    }
   ],
   "source": [
    "# Define seed edges:\n",
    "edge_label_index = train_data[\"session\", \"rates\", \"song\"].edge_label_index\n",
    "edge_label = train_data[\"session\", \"rates\", \"song\"].edge_label\n",
    "\n",
    "train_loader = LinkNeighborLoader(\n",
    "    data=train_data,\n",
    "    num_neighbors=[20, 10],\n",
    "    neg_sampling_ratio=2.0,\n",
    "    edge_label_index=((\"session\", \"rates\", \"song\"), edge_label_index),\n",
    "    edge_label=edge_label,\n",
    "    batch_size=128,\n",
    "    shuffle=True,\n",
    ")\n",
    "\n",
    "# Inspect a sample:\n",
    "sampled_data = next(iter(train_loader))\n",
    "\n",
    "print(\"Sampled mini-batch:\")\n",
    "print(\"===================\")\n",
    "print(sampled_data)"
   ]
  },
  {
   "cell_type": "code",
   "execution_count": 16,
   "id": "5fd4604d-668f-4e25-8e86-966728aa6b51",
   "metadata": {},
   "outputs": [
    {
     "name": "stdout",
     "output_type": "stream",
     "text": [
      "Model(\n",
      "  (song_lin): Linear(in_features=1, out_features=64, bias=True)\n",
      "  (session_emb): Embedding(10000, 64)\n",
      "  (song_emb): Embedding(50704, 64)\n",
      "  (gnn): GraphModule(\n",
      "    (conv1): ModuleDict(\n",
      "      (session__rates__song): SAGEConv(64, 64, aggr=mean)\n",
      "      (song__rev_rates__session): SAGEConv(64, 64, aggr=mean)\n",
      "    )\n",
      "    (conv2): ModuleDict(\n",
      "      (session__rates__song): SAGEConv(64, 64, aggr=mean)\n",
      "      (song__rev_rates__session): SAGEConv(64, 64, aggr=mean)\n",
      "    )\n",
      "  )\n",
      "  (classifier): Classifier()\n",
      ")\n"
     ]
    }
   ],
   "source": [
    "class GNN(torch.nn.Module):\n",
    "    def __init__(self, hidden_channels):\n",
    "        super().__init__()\n",
    "\n",
    "        self.conv1 = SAGEConv(hidden_channels, hidden_channels)\n",
    "        self.conv2 = SAGEConv(hidden_channels, hidden_channels)\n",
    "\n",
    "    def forward(self, x: Tensor, edge_index: Tensor) -> Tensor:\n",
    "        x = F.relu(self.conv1(x, edge_index))\n",
    "        x = self.conv2(x, edge_index)\n",
    "        return x\n",
    "\n",
    "# Our final classifier applies the dot-product between source and destination\n",
    "# node embeddings to derive edge-level predictions:\n",
    "class Classifier(torch.nn.Module):\n",
    "    def forward(self, x_session: Tensor, x_song: Tensor, edge_label_index: Tensor) -> Tensor:\n",
    "        # Convert node embeddings to edge-level representations:\n",
    "        edge_feat_session = x_session[edge_label_index[0]]\n",
    "        edge_feat_song = x_song[edge_label_index[1]]\n",
    "\n",
    "        # Apply dot-product to get a prediction per supervision edge:\n",
    "        return (edge_feat_session * edge_feat_song).sum(dim=-1)\n",
    "\n",
    "\n",
    "class Model(torch.nn.Module):\n",
    "    def __init__(self, input_size, hidden_channels):\n",
    "        super().__init__()\n",
    "        # Since the dataset does not come with rich features, we also learn two embedding matrices for users and movies:\n",
    "        self.song_lin = torch.nn.Linear(input_size, hidden_channels)\n",
    "        self.session_emb = torch.nn.Embedding(data[\"session\"].num_nodes, hidden_channels)\n",
    "        self.song_emb = torch.nn.Embedding(data[\"song\"].num_nodes, hidden_channels)\n",
    "\n",
    "        # Instantiate homogeneous GNN:\n",
    "        self.gnn = GNN(hidden_channels)\n",
    "\n",
    "        modified_list = [item for item in data.metadata()[0] if item != 'user']\n",
    "        new_tuple = (modified_list, data.metadata()[1])\n",
    "\n",
    "        self.gnn = to_hetero(self.gnn, metadata=new_tuple)\n",
    "\n",
    "        self.classifier = Classifier()\n",
    "\n",
    "    def forward(self, data: HeteroData) -> Tensor:\n",
    "        x_dict = {\n",
    "          \"session\": self.session_emb(data[\"session\"].node_id),\n",
    "          \"song\": self.song_lin(data[\"song\"].x) + self.song_emb(data[\"song\"].node_id),\n",
    "        } \n",
    "\n",
    "        # `x_dict` holds feature matrices of all node types\n",
    "        # `edge_index_dict` holds all edge indices of all edge types\n",
    "        x_dict = self.gnn(x_dict, data.edge_index_dict)\n",
    "        pred = self.classifier(\n",
    "            x_dict[\"session\"],\n",
    "            x_dict[\"song\"],\n",
    "            data[\"session\", \"rates\", \"song\"].edge_label_index,\n",
    "        )\n",
    "\n",
    "        return pred\n",
    "\n",
    "        \n",
    "model = Model(input_size=1, hidden_channels=64)\n",
    "print(model)"
   ]
  },
  {
   "cell_type": "code",
   "execution_count": 17,
   "id": "344d81f9-1d77-4b1f-87e2-b1a92ad8f0f3",
   "metadata": {},
   "outputs": [
    {
     "name": "stdout",
     "output_type": "stream",
     "text": [
      "Device: 'cpu'\n"
     ]
    },
    {
     "name": "stderr",
     "output_type": "stream",
     "text": [
      "100%|█████████████████████████████████████████| 315/315 [00:08<00:00, 36.79it/s]\n"
     ]
    },
    {
     "name": "stdout",
     "output_type": "stream",
     "text": [
      "Epoch: 1.0, Loss: 0.5873\n"
     ]
    },
    {
     "name": "stderr",
     "output_type": "stream",
     "text": [
      "100%|█████████████████████████████████████████| 315/315 [00:08<00:00, 37.47it/s]\n"
     ]
    },
    {
     "name": "stdout",
     "output_type": "stream",
     "text": [
      "Epoch: 2.0, Loss: 0.4276\n"
     ]
    },
    {
     "name": "stderr",
     "output_type": "stream",
     "text": [
      "100%|█████████████████████████████████████████| 315/315 [00:08<00:00, 37.47it/s]\n"
     ]
    },
    {
     "name": "stdout",
     "output_type": "stream",
     "text": [
      "Epoch: 3.0, Loss: 0.3876\n"
     ]
    },
    {
     "name": "stderr",
     "output_type": "stream",
     "text": [
      "100%|█████████████████████████████████████████| 315/315 [00:08<00:00, 37.15it/s]\n"
     ]
    },
    {
     "name": "stdout",
     "output_type": "stream",
     "text": [
      "Epoch: 4.0, Loss: 0.3577\n"
     ]
    },
    {
     "name": "stderr",
     "output_type": "stream",
     "text": [
      "100%|█████████████████████████████████████████| 315/315 [00:08<00:00, 36.86it/s]\n"
     ]
    },
    {
     "name": "stdout",
     "output_type": "stream",
     "text": [
      "Epoch: 5.0, Loss: 0.3378\n"
     ]
    },
    {
     "name": "stderr",
     "output_type": "stream",
     "text": [
      "100%|█████████████████████████████████████████| 315/315 [00:08<00:00, 37.13it/s]"
     ]
    },
    {
     "name": "stdout",
     "output_type": "stream",
     "text": [
      "Epoch: 6.0, Loss: 0.3162\n"
     ]
    },
    {
     "name": "stderr",
     "output_type": "stream",
     "text": [
      "\n"
     ]
    }
   ],
   "source": [
    "device = torch.device('cuda' if torch.cuda.is_available() else 'cpu')\n",
    "print(f\"Device: '{device}'\")\n",
    "\n",
    "model = model.to(device)\n",
    "optimizer = torch.optim.Adam(model.parameters(), lr=0.001)\n",
    "\n",
    "for epoch in range(1, 6):\n",
    "    total_loss = total_examples = 0\n",
    "    for sampled_data in tqdm.tqdm(train_loader):\n",
    "        optimizer.zero_grad()\n",
    "\n",
    "        sampled_data.to(device)\n",
    "        pred = model(sampled_data)\n",
    "\n",
    "        ground_truth = sampled_data[\"session\", \"rates\", \"song\"].edge_label\n",
    "        loss = F.binary_cross_entropy_with_logits(pred, ground_truth)\n",
    "\n",
    "        loss.backward()\n",
    "        optimizer.step()\n",
    "        total_loss += float(loss) * pred.numel()\n",
    "        total_examples += pred.numel()\n",
    "    print(f\"Epoch: {epoch}, Loss: {total_loss / total_examples:.4f}\")"
   ]
  },
  {
   "cell_type": "code",
   "execution_count": 18,
   "id": "87982b15-25b5-4cb9-8fc7-7e7044640486",
   "metadata": {},
   "outputs": [
    {
     "name": "stdout",
     "output_type": "stream",
     "text": [
      "Sampled mini-batch:\n",
      "===================\n",
      "HeteroData(\n",
      "  session={\n",
      "    node_id=[6305],\n",
      "    n_id=[6305],\n",
      "  },\n",
      "  song={\n",
      "    node_id=[8683],\n",
      "    x=[8683, 1],\n",
      "    n_id=[8683],\n",
      "  },\n",
      "  (session, rates, song)={\n",
      "    edge_index=[2, 16751],\n",
      "    edge_label=[384],\n",
      "    edge_label_index=[2, 384],\n",
      "    e_id=[16751],\n",
      "    input_id=[384],\n",
      "  },\n",
      "  (song, rev_rates, session)={\n",
      "    edge_index=[2, 26863],\n",
      "    e_id=[26863],\n",
      "  }\n",
      ")\n"
     ]
    }
   ],
   "source": [
    "# Define the validation seed edges:\n",
    "edge_label_index = val_data[\"session\", \"rates\", \"song\"].edge_label_index\n",
    "edge_label = val_data[\"session\", \"rates\", \"song\"].edge_label\n",
    "\n",
    "val_loader = LinkNeighborLoader(\n",
    "    data=val_data,\n",
    "    num_neighbors=[20, 10],\n",
    "    edge_label_index=((\"session\", \"rates\", \"song\"), edge_label_index),\n",
    "    edge_label=edge_label,\n",
    "    batch_size=3 * 128,\n",
    "    shuffle=False,\n",
    ")\n",
    "\n",
    "sampled_data = next(iter(val_loader))\n",
    "\n",
    "print(\"Sampled mini-batch:\")\n",
    "print(\"===================\")\n",
    "print(sampled_data)\n",
    "\n",
    "assert sampled_data[\"session\", \"rates\", \"song\"].edge_label_index.size(1) == 3 * 128\n",
    "assert sampled_data[\"session\", \"rates\", \"song\"].edge_label.min() >= 0\n",
    "assert sampled_data[\"session\", \"rates\", \"song\"].edge_label.max() <= 1"
   ]
  },
  {
   "cell_type": "code",
   "execution_count": 19,
   "id": "25b22e2e-aa86-4e05-80f3-cbcf2b2de99d",
   "metadata": {},
   "outputs": [
    {
     "name": "stderr",
     "output_type": "stream",
     "text": [
      "100%|█████████████████████████████████████████| 132/132 [00:02<00:00, 52.01it/s]\n"
     ]
    },
    {
     "name": "stdout",
     "output_type": "stream",
     "text": [
      "\n",
      "Validation AUC: 0.8955\n",
      "F1 score: 0.7117\n"
     ]
    }
   ],
   "source": [
    "preds = []\n",
    "ground_truths = []\n",
    "for sampled_data in tqdm.tqdm(val_loader):\n",
    "    with torch.no_grad():\n",
    "        sampled_data.to(device)\n",
    "        preds.append(model(sampled_data))\n",
    "        ground_truths.append(sampled_data[\"session\", \"rates\", \"song\"].edge_label)\n",
    "\n",
    "pred = torch.cat(preds, dim=0).cpu().numpy()\n",
    "pred_binary = np.array([0 if val <=0 else 1 for val in pred]).reshape(-1)\n",
    "\n",
    "ground_truth = torch.cat(ground_truths, dim=0).cpu().numpy()\n",
    "auc = roc_auc_score(ground_truth, pred)\n",
    "f1 = f1_score(ground_truth, pred_binary)\n",
    "print()\n",
    "print(f\"Validation AUC: {auc:.4f}\")\n",
    "print(f\"F1 score: {f1:.4f}\")"
   ]
  },
  {
   "cell_type": "markdown",
   "id": "887db5e6-8070-45d7-be6e-715cf1b22bf8",
   "metadata": {},
   "source": [
    "# GraphSAGE #1: via all song feature components"
   ]
  },
  {
   "cell_type": "code",
   "execution_count": 20,
   "id": "d0de9059-8ed8-4ee1-9175-86e556de2c58",
   "metadata": {},
   "outputs": [
    {
     "name": "stdout",
     "output_type": "stream",
     "text": [
      "HeteroData(\n",
      "  session={ node_id=[10000] },\n",
      "  song={\n",
      "    node_id=[50704],\n",
      "    x=[50704, 10],\n",
      "  },\n",
      "  (session, rates, song)={ edge_index=[2, 167880] },\n",
      "  (song, rev_rates, session)={ edge_index=[2, 167880] },\n",
      "  (session, rev_rev_rates, song)={ edge_index=[2, 167880] }\n",
      ")\n"
     ]
    }
   ],
   "source": [
    "track_feat = track_info[['acousticness', 'danceability', 'energy', 'instrumentalness',\n",
    "       'liveness', 'loudness', 'speechiness', 'tempo', 'valence', 'key']]\n",
    "track_feat = torch.from_numpy(track_feat.values).to(torch.float)\n",
    "assert track_feat.size() == (50704, 10)\n",
    "\n",
    "\n",
    "data[\"song\"].x = track_feat\n",
    "data[\"session\", \"rates\", \"song\"].edge_index = edge_index_session_to_song\n",
    "\n",
    "data = T.ToUndirected()(data)\n",
    "print(data)"
   ]
  },
  {
   "cell_type": "code",
   "execution_count": 21,
   "id": "9e248d3f-ad9b-4909-959f-2618ae9706f5",
   "metadata": {},
   "outputs": [
    {
     "name": "stdout",
     "output_type": "stream",
     "text": [
      "Training data:\n",
      "==============\n",
      "HeteroData(\n",
      "  session={ node_id=[10000] },\n",
      "  song={\n",
      "    node_id=[50704],\n",
      "    x=[50704, 10],\n",
      "  },\n",
      "  (session, rates, song)={\n",
      "    edge_index=[2, 94013],\n",
      "    edge_label=[40291],\n",
      "    edge_label_index=[2, 40291],\n",
      "  },\n",
      "  (song, rev_rates, session)={ edge_index=[2, 94013] },\n",
      "  (session, rev_rev_rates, song)={ edge_index=[2, 167880] }\n",
      ")\n",
      "\n",
      "Validation data:\n",
      "================\n",
      "HeteroData(\n",
      "  session={ node_id=[10000] },\n",
      "  song={\n",
      "    node_id=[50704],\n",
      "    x=[50704, 10],\n",
      "  },\n",
      "  (session, rates, song)={\n",
      "    edge_index=[2, 134304],\n",
      "    edge_label=[50364],\n",
      "    edge_label_index=[2, 50364],\n",
      "  },\n",
      "  (song, rev_rates, session)={ edge_index=[2, 134304] },\n",
      "  (session, rev_rev_rates, song)={ edge_index=[2, 167880] }\n",
      ")\n"
     ]
    }
   ],
   "source": [
    "transform = T.RandomLinkSplit(\n",
    "    num_val=0.1,\n",
    "    num_test=0.1,\n",
    "    disjoint_train_ratio=0.3,\n",
    "    neg_sampling_ratio=2.0,\n",
    "    add_negative_train_samples=False,\n",
    "    edge_types=(\"session\", \"rates\", \"song\"),\n",
    "    rev_edge_types=(\"song\", \"rev_rates\", \"session\"), \n",
    ")\n",
    "\n",
    "train_data, val_data, test_data = transform(data)\n",
    "print(\"Training data:\")\n",
    "print(\"==============\")\n",
    "print(train_data)\n",
    "print()\n",
    "print(\"Validation data:\")\n",
    "print(\"================\")\n",
    "print(val_data)"
   ]
  },
  {
   "cell_type": "code",
   "execution_count": 22,
   "id": "ce5f5ab0-208c-43e4-898b-4daf74e9a6a5",
   "metadata": {},
   "outputs": [
    {
     "name": "stdout",
     "output_type": "stream",
     "text": [
      "Model(\n",
      "  (song_lin): Linear(in_features=10, out_features=64, bias=True)\n",
      "  (session_emb): Embedding(10000, 64)\n",
      "  (song_emb): Embedding(50704, 64)\n",
      "  (gnn): GraphModule(\n",
      "    (conv1): ModuleDict(\n",
      "      (session__rates__song): SAGEConv(64, 64, aggr=mean)\n",
      "      (song__rev_rates__session): SAGEConv(64, 64, aggr=mean)\n",
      "      (session__rev_rev_rates__song): SAGEConv(64, 64, aggr=mean)\n",
      "    )\n",
      "    (conv2): ModuleDict(\n",
      "      (session__rates__song): SAGEConv(64, 64, aggr=mean)\n",
      "      (song__rev_rates__session): SAGEConv(64, 64, aggr=mean)\n",
      "      (session__rev_rev_rates__song): SAGEConv(64, 64, aggr=mean)\n",
      "    )\n",
      "  )\n",
      "  (classifier): Classifier()\n",
      ")\n"
     ]
    }
   ],
   "source": [
    "train_loader = LinkNeighborLoader(\n",
    "    data=train_data,\n",
    "    num_neighbors=[20, 10],\n",
    "    neg_sampling_ratio=2.0,\n",
    "    edge_label_index=((\"session\", \"rates\", \"song\"), edge_label_index),\n",
    "    edge_label=edge_label,\n",
    "    batch_size=128,\n",
    "    shuffle=True,\n",
    ")\n",
    "\n",
    "# Inspect a sample:\n",
    "# sampled_data = next(iter(train_loader))\n",
    "\n",
    "# print(\"Sampled mini-batch:\")\n",
    "# print(\"===================\")\n",
    "# print(sampled_data)\n",
    "\n",
    "model = Model(input_size=10, hidden_channels=64)\n",
    "print(model)"
   ]
  },
  {
   "cell_type": "code",
   "execution_count": 23,
   "id": "7e857349-659f-4ce7-84d1-7461b87ddbf0",
   "metadata": {},
   "outputs": [
    {
     "name": "stdout",
     "output_type": "stream",
     "text": [
      "Device: 'cpu'\n"
     ]
    },
    {
     "name": "stderr",
     "output_type": "stream",
     "text": [
      "100%|█████████████████████████████████████████| 394/394 [00:14<00:00, 26.66it/s]\n"
     ]
    },
    {
     "name": "stdout",
     "output_type": "stream",
     "text": [
      "Epoch: 1.0, Loss: 1.1068\n"
     ]
    },
    {
     "name": "stderr",
     "output_type": "stream",
     "text": [
      "100%|█████████████████████████████████████████| 394/394 [00:15<00:00, 26.01it/s]\n"
     ]
    },
    {
     "name": "stdout",
     "output_type": "stream",
     "text": [
      "Epoch: 2.0, Loss: 1.1069\n"
     ]
    },
    {
     "name": "stderr",
     "output_type": "stream",
     "text": [
      "100%|█████████████████████████████████████████| 394/394 [00:15<00:00, 25.47it/s]\n"
     ]
    },
    {
     "name": "stdout",
     "output_type": "stream",
     "text": [
      "Epoch: 3.0, Loss: 1.1060\n"
     ]
    },
    {
     "name": "stderr",
     "output_type": "stream",
     "text": [
      "100%|█████████████████████████████████████████| 394/394 [00:15<00:00, 25.25it/s]\n"
     ]
    },
    {
     "name": "stdout",
     "output_type": "stream",
     "text": [
      "Epoch: 4.0, Loss: 1.1053\n"
     ]
    },
    {
     "name": "stderr",
     "output_type": "stream",
     "text": [
      "100%|█████████████████████████████████████████| 394/394 [00:15<00:00, 25.06it/s]\n"
     ]
    },
    {
     "name": "stdout",
     "output_type": "stream",
     "text": [
      "Epoch: 5.0, Loss: 1.1014\n"
     ]
    },
    {
     "name": "stderr",
     "output_type": "stream",
     "text": [
      "100%|█████████████████████████████████████████| 394/394 [00:15<00:00, 25.19it/s]"
     ]
    },
    {
     "name": "stdout",
     "output_type": "stream",
     "text": [
      "Epoch: 6.0, Loss: 1.1017\n",
      "Sampled mini-batch:\n",
      "===================\n",
      "HeteroData(\n",
      "  session={\n",
      "    node_id=[7203],\n",
      "    n_id=[7203],\n",
      "  },\n",
      "  song={\n",
      "    node_id=[9880],\n",
      "    x=[9880, 10],\n",
      "    n_id=[9880],\n",
      "  },\n",
      "  (session, rates, song)={\n",
      "    edge_index=[2, 17416],\n",
      "    edge_label=[384],\n",
      "    edge_label_index=[2, 384],\n",
      "    e_id=[17416],\n",
      "    input_id=[384],\n",
      "  },\n",
      "  (song, rev_rates, session)={\n",
      "    edge_index=[2, 33999],\n",
      "    e_id=[33999],\n",
      "  },\n",
      "  (session, rev_rev_rates, song)={\n",
      "    edge_index=[2, 18961],\n",
      "    e_id=[18961],\n",
      "  }\n",
      ")\n"
     ]
    },
    {
     "name": "stderr",
     "output_type": "stream",
     "text": [
      "\n"
     ]
    }
   ],
   "source": [
    "device = torch.device('cuda' if torch.cuda.is_available() else 'cpu')\n",
    "print(f\"Device: '{device}'\")\n",
    "\n",
    "# model = model.to(device)\n",
    "# optimizer = torch.optim.Adam(model.parameters(), lr=0.001)\n",
    "\n",
    "for epoch in range(1, 6):\n",
    "    total_loss = total_examples = 0\n",
    "    for sampled_data in tqdm.tqdm(train_loader):\n",
    "        optimizer.zero_grad()\n",
    "\n",
    "        sampled_data.to(device)\n",
    "        pred = model(sampled_data)\n",
    "\n",
    "        ground_truth = sampled_data[\"session\", \"rates\", \"song\"].edge_label\n",
    "        loss = F.binary_cross_entropy_with_logits(pred, ground_truth)\n",
    "\n",
    "        loss.backward()\n",
    "        optimizer.step()\n",
    "        total_loss += float(loss) * pred.numel()\n",
    "        total_examples += pred.numel()\n",
    "    print(f\"Epoch: {epoch}, Loss: {total_loss / total_examples:.4f}\")\n",
    "\n",
    "\n",
    "# Define the validation seed edges:\n",
    "edge_label_index = val_data[\"session\", \"rates\", \"song\"].edge_label_index\n",
    "edge_label = val_data[\"session\", \"rates\", \"song\"].edge_label\n",
    "\n",
    "val_loader = LinkNeighborLoader(\n",
    "    data=val_data,\n",
    "    num_neighbors=[20, 10],\n",
    "    edge_label_index=((\"session\", \"rates\", \"song\"), edge_label_index),\n",
    "    edge_label=edge_label,\n",
    "    batch_size=3 * 128,\n",
    "    shuffle=False,\n",
    ")\n",
    "\n",
    "sampled_data = next(iter(val_loader))\n",
    "\n",
    "print(\"Sampled mini-batch:\")\n",
    "print(\"===================\")\n",
    "print(sampled_data)\n",
    "\n",
    "assert sampled_data[\"session\", \"rates\", \"song\"].edge_label_index.size(1) == 3 * 128\n",
    "assert sampled_data[\"session\", \"rates\", \"song\"].edge_label.min() >= 0\n",
    "assert sampled_data[\"session\", \"rates\", \"song\"].edge_label.max() <= 1"
   ]
  },
  {
   "cell_type": "code",
   "execution_count": 24,
   "id": "ef195446-ca81-4d74-8bd9-017916bfed50",
   "metadata": {},
   "outputs": [
    {
     "name": "stderr",
     "output_type": "stream",
     "text": [
      "100%|█████████████████████████████████████████| 132/132 [00:04<00:00, 31.02it/s]\n"
     ]
    },
    {
     "name": "stdout",
     "output_type": "stream",
     "text": [
      "\n",
      "Validation AUC: 0.4969\n",
      "F1 score: 0.3436\n"
     ]
    }
   ],
   "source": [
    "preds = []\n",
    "ground_truths = []\n",
    "for sampled_data in tqdm.tqdm(val_loader):\n",
    "    with torch.no_grad():\n",
    "        sampled_data.to(device)\n",
    "        preds.append(model(sampled_data))\n",
    "        ground_truths.append(sampled_data[\"session\", \"rates\", \"song\"].edge_label)\n",
    "\n",
    "pred = torch.cat(preds, dim=0).cpu().numpy()\n",
    "pred_binary = np.array([0 if val <=0 else 1 for val in pred]).reshape(-1)\n",
    "\n",
    "ground_truth = torch.cat(ground_truths, dim=0).cpu().numpy()\n",
    "auc = roc_auc_score(ground_truth, pred)\n",
    "f1 = f1_score(ground_truth, pred_binary)\n",
    "print()\n",
    "print(f\"Validation AUC: {auc:.4f}\")\n",
    "print(f\"F1 score: {f1:.4f}\")"
   ]
  },
  {
   "cell_type": "markdown",
   "id": "b8008f3f-ed52-4879-9ee8-55dab8d606f5",
   "metadata": {},
   "source": [
    "# Linear regression model"
   ]
  },
  {
   "cell_type": "code",
   "execution_count": 25,
   "id": "90079e79-970d-4913-a283-32b7bab05939",
   "metadata": {},
   "outputs": [],
   "source": [
    "df_merged = pd.merge(df, track_info, left_on='track_id_clean', right_on='track_id', how='left').drop(['skip_1', 'skip_2', 'skip_3'], axis=1)                                                                                 \n",
    "# df_merged.info()"
   ]
  },
  {
   "cell_type": "code",
   "execution_count": 26,
   "id": "b4389e02-1fb7-4d0b-bca3-19de92f62af3",
   "metadata": {},
   "outputs": [
    {
     "name": "stdout",
     "output_type": "stream",
     "text": [
      "AUC score: 0.5006677275208322\n",
      "F1 score: 0.4986869591166816\n"
     ]
    }
   ],
   "source": [
    "features = df_merged[['session_position', 'session_length', 'context_switch', 'no_pause_before_play', 'short_pause_before_play',\n",
    "               'long_pause_before_play', 'hist_user_behavior_n_seekfwd', 'hist_user_behavior_n_seekback', 'hour_of_day', \n",
    "               'acousticness', 'danceability', 'energy', 'instrumentalness', 'liveness', 'loudness', 'speechiness', \n",
    "               'tempo', 'valence', 'key', 'genre']]\n",
    "\n",
    "# Encode the target variable\n",
    "target = df['not_skipped'].astype(int)\n",
    "X_train, X_test, y_train, y_test = train_test_split(features, target, test_size=0.3, random_state=42)\n",
    "\n",
    "model = LinearRegression()\n",
    "model.fit(X_train, y_train)\n",
    "predictions = model.predict(X_test)\n",
    "rounded_predictions = [0 if pred < 0.05 else 1 for pred in predictions]\n",
    "\n",
    "auc = roc_auc_score(y_test, rounded_predictions)\n",
    "f1 = f1_score(y_test, rounded_predictions)\n",
    "print(f\"AUC score: {auc}\")\n",
    "print(f\"F1 score: {f1}\")"
   ]
  },
  {
   "cell_type": "markdown",
   "id": "82020c71-1d1c-4715-8473-3e6993994280",
   "metadata": {},
   "source": [
    "# 2-layer MLP Model"
   ]
  },
  {
   "cell_type": "code",
   "execution_count": 27,
   "id": "873b5eaa-4601-4446-8cee-8ae6614780d6",
   "metadata": {},
   "outputs": [
    {
     "name": "stdout",
     "output_type": "stream",
     "text": [
      "AUC score: 0.5381963503578622\n",
      "F1 score: 0.2169878658101356\n"
     ]
    }
   ],
   "source": [
    "features = df_merged[['session_position', 'session_length', 'context_switch', 'no_pause_before_play', 'short_pause_before_play',\n",
    "               'long_pause_before_play', 'hist_user_behavior_n_seekfwd', 'hist_user_behavior_n_seekback', 'hour_of_day', \n",
    "               'acousticness', 'danceability', 'energy', 'instrumentalness', 'liveness', 'loudness', 'speechiness', \n",
    "               'tempo', 'valence', 'key', 'genre']]\n",
    "\n",
    "target = df_merged['not_skipped'].astype(int)\n",
    "X_train, X_test, y_train, y_test = train_test_split(features, target, test_size=0.3, random_state=42)\n",
    "\n",
    "scaler = StandardScaler()\n",
    "X_train = scaler.fit_transform(X_train)\n",
    "X_test = scaler.transform(X_test)\n",
    "\n",
    "mlp = MLPClassifier(hidden_layer_sizes=(100,), max_iter=300, activation='relu', solver='adam', random_state=42)\n",
    "mlp.fit(X_train, y_train)\n",
    "predictions = mlp.predict(X_test)\n",
    "\n",
    "# Evaluate the model\n",
    "rounded_predictions = [0 if pred < 0.05 else 1 for pred in predictions]\n",
    "\n",
    "auc = roc_auc_score(y_test, rounded_predictions)\n",
    "f1 = f1_score(y_test, rounded_predictions)\n",
    "print(f\"AUC score: {auc}\")\n",
    "print(f\"F1 score: {f1}\")"
   ]
  },
  {
   "cell_type": "markdown",
   "id": "8649d7d4-d927-4a27-a14e-66ad3008a0b8",
   "metadata": {},
   "source": [
    "# Baseline: via prior on historical listening rate"
   ]
  },
  {
   "cell_type": "code",
   "execution_count": 28,
   "id": "5d6140c8-a284-4ae1-b545-d09d61f4cbc1",
   "metadata": {},
   "outputs": [],
   "source": [
    "listening = pd.read_csv('log_mini.csv')\n",
    "listening = listening.sample(frac = 1).reset_index(drop=True) #shuffle lines\n",
    "\n",
    "train_listening = listening.iloc[:133880]\n",
    "test_listening = listening.iloc[133880:150880]\n",
    "validate_listening = listening.iloc[150880:]"
   ]
  },
  {
   "cell_type": "code",
   "execution_count": 29,
   "id": "678574f3-fae8-4284-9967-1e4f2f5dc2c5",
   "metadata": {},
   "outputs": [
    {
     "name": "stdout",
     "output_type": "stream",
     "text": [
      "Rate of positive edges: 0.33288062902072907\n",
      "Number of positive edges: 55884\n",
      "Number of negative edges: 111996\n"
     ]
    }
   ],
   "source": [
    "all_sessions = set(listening['session_id'])\n",
    "all_songs = set(listening['track_id_clean'])\n",
    "\n",
    "print(f\"Rate of positive edges: {len(listening[listening['not_skipped']==True]) / len(listening)}\")\n",
    "print(f\"Number of positive edges: {len(listening[listening['not_skipped']==True])}\")\n",
    "print(f\"Number of negative edges: {len(listening[listening['not_skipped']==False])}\")"
   ]
  },
  {
   "cell_type": "code",
   "execution_count": 30,
   "id": "3236683b-e3e2-4729-a93d-6f617de8003a",
   "metadata": {},
   "outputs": [],
   "source": [
    "track_info = pd.read_csv('tf_mini.csv')\n",
    "track_info = track_info[['acousticness', 'danceability', 'energy', 'instrumentalness', 'liveness', 'loudness', 'speechiness', 'tempo', 'valence', 'key']]"
   ]
  },
  {
   "cell_type": "code",
   "execution_count": 31,
   "id": "423a332c-b7a2-44f1-b30c-2d451e013aa8",
   "metadata": {},
   "outputs": [],
   "source": [
    "# construct graph representation based on training edge set:\n",
    "\n",
    "G = nx.DiGraph()\n",
    "G.add_nodes_from(all_sessions)\n",
    "\n",
    "for song in all_songs:\n",
    "    G.add_node(song, play_percentage=0)\n",
    "\n",
    "for index, row in train_listening.iterrows():\n",
    "    G.add_edge(row['session_id'], row['track_id_clean'])\n",
    "    G[row['session_id']][row['track_id_clean']]['played'] = row['not_skipped']\n",
    "\n",
    "for song in all_songs:\n",
    "    edges = G.in_edges(nbunch=song)\n",
    "    num_appearences = len(edges)\n",
    "    num_played = 0\n",
    "    for node1, node2 in edges:\n",
    "        if G[node1][node2]['played']==True:\n",
    "            num_played +=1 \n",
    "\n",
    "    listen_rate = num_played/num_appearences if num_appearences > 0 else 0\n",
    "    G.nodes[song]['play_percentage']= listen_rate"
   ]
  },
  {
   "cell_type": "code",
   "execution_count": 32,
   "id": "e5698af5-d771-43e2-8909-01d83c336626",
   "metadata": {},
   "outputs": [
    {
     "name": "stdout",
     "output_type": "stream",
     "text": [
      "AUC score: 0.5171282553025017\n",
      "F1 score: 0.24173428606031247\n"
     ]
    }
   ],
   "source": [
    "y_true = []\n",
    "y_pred = []\n",
    "for index, row in test_listening.iterrows():\n",
    "    y_true.append(row['not_skipped'])\n",
    "    y_pred.append(G.nodes[row['track_id_clean']]['play_percentage'] >= 0.5)\n",
    "\n",
    "auc = roc_auc_score(y_true, y_pred)\n",
    "f1 = f1_score(y_true, y_pred)\n",
    "print(f\"AUC score: {auc}\")\n",
    "print(f\"F1 score: {f1}\")"
   ]
  },
  {
   "cell_type": "code",
   "execution_count": null,
   "id": "deab0d3a-db79-475e-8687-98d4c7c1cc39",
   "metadata": {},
   "outputs": [],
   "source": []
  }
 ],
 "metadata": {
  "kernelspec": {
   "display_name": "Python 3 (ipykernel)",
   "language": "python",
   "name": "python3"
  },
  "language_info": {
   "codemirror_mode": {
    "name": "ipython",
    "version": 3
   },
   "file_extension": ".py",
   "mimetype": "text/x-python",
   "name": "python",
   "nbconvert_exporter": "python",
   "pygments_lexer": "ipython3",
   "version": "3.11.5"
  }
 },
 "nbformat": 4,
 "nbformat_minor": 5
}
